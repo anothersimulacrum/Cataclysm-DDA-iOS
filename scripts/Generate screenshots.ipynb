{
 "cells": [
  {
   "cell_type": "code",
   "execution_count": 6,
   "metadata": {
    "pycharm": {
     "name": "#%%\n"
    }
   },
   "outputs": [],
   "source": [
    "import glob\n",
    "import os.path\n",
    "from concurrent.futures import ProcessPoolExecutor\n",
    "from pathlib import Path\n",
    "\n",
    "from PIL import Image\n",
    "from tqdm.notebook import tqdm\n",
    "\n",
    "\n",
    "class AppStorePreviewImageGenerator:\n",
    "  SOURCE_IMAGES_ROOT = '../Screenshots for app store/sources'\n",
    "  DESTINATION_IMAGES_ROOT = '../Screenshots for app store/generated'\n",
    "\n",
    "  BUTTONS = {\n",
    "      'gamepad': {\n",
    "          'path': '../Bundle/JSDPad/dPad-None@2x.png',\n",
    "          'offset': (20, -20-150),  # +x = left, -x = right, +y = top, -y = bottom\n",
    "          'size': (150, 150),\n",
    "      },\n",
    "      'esc': {\n",
    "          'path': '../Screenshots for app store/esc button@2x.png',\n",
    "          'offset': (-20-50, 20),\n",
    "          'size': (50, 50),\n",
    "      },\n",
    "      'return': {\n",
    "          'path': '../Screenshots for app store/return button@2x.png',\n",
    "          'offset': (-20-50, -20-50),\n",
    "          'size': (50, 50),\n",
    "      },\n",
    "      'tab': {\n",
    "          'path': '../Screenshots for app store/tab button@2x.png',\n",
    "          'offset': (20, 20),\n",
    "          'size': (50, 50),\n",
    "      },\n",
    "  }\n",
    "  DIAGONALS_TO_PPI_SCALE_WIDTH_HEIGHT = {\n",
    "      '5.5': (401, 2, 1920, 1080),\n",
    "      '6.5': (458, 3, 2688, 1242),\n",
    "      '12.9': (264, 2, 2732, 2048),\n",
    "  }\n",
    "  OPACITY = round(.125 * 255)\n",
    "\n",
    "  def generate_images(self):\n",
    "    params = list(self._processing_params_generator())\n",
    "    with ProcessPoolExecutor() as executor:\n",
    "        results = list(tqdm(executor.map(self._process_image, params), total=len(params)))\n",
    "    return results\n",
    "\n",
    "  def _processing_params_generator(self):\n",
    "      for diagonal in self.DIAGONALS_TO_PPI_SCALE_WIDTH_HEIGHT:\n",
    "        source_image_paths = self._generate_source_image_paths(diagonal)\n",
    "        output_directory = Path(os.path.join(self.DESTINATION_IMAGES_ROOT, diagonal))\n",
    "        output_directory.mkdir(parents=True, exist_ok=True)\n",
    "\n",
    "        for source_image_path in source_image_paths:\n",
    "            yield diagonal, output_directory, source_image_path\n",
    "\n",
    "  def _process_image(self, params):\n",
    "      diagonal, output_directory, source_image_path = params\n",
    "      image = self.generate_image(source_image_path, diagonal)\n",
    "      destination_image_path = os.path.join(\n",
    "          output_directory, os.path.basename(source_image_path))\n",
    "      image.save(destination_image_path)\n",
    "\n",
    "      return image\n",
    "\n",
    "  def generate_image(self, source_image_path, diagonal):\n",
    "      bg_image = Image.open(source_image_path)\n",
    "      dpi, scale, *size = self.DIAGONALS_TO_PPI_SCALE_WIDTH_HEIGHT[diagonal]\n",
    "\n",
    "      for name, data in self.BUTTONS.items():\n",
    "          self._process_button(bg_image, data, size, scale)\n",
    "      return bg_image\n",
    "\n",
    "  def _generate_source_image_paths(self, diagonal):\n",
    "    source_image_paths = glob.glob(os.path.join(self.SOURCE_IMAGES_ROOT, diagonal, '*.png'))\n",
    "    return source_image_paths\n",
    "\n",
    "  def _process_button(self, bg_image, image_data, size, scale):\n",
    "    real_size = [d*scale for d in image_data['size']]\n",
    "    image = Image.open(image_data['path']).resize(real_size).convert(mode='RGBA')\n",
    "    actual_offset = [\n",
    "      self._calculate_actual_offset(o, s, scale)\n",
    "      for (o, s) in zip(image_data['offset'], size)\n",
    "    ]\n",
    "\n",
    "    image_data = list(image.getdata())\n",
    "    for i, pixel in enumerate(image_data):\n",
    "      image_data[i] = pixel[:3] + (self.OPACITY, ) if pixel[3] > 0 else pixel\n",
    "    image.putdata(image_data)\n",
    "\n",
    "    bg_image.paste(image, box=actual_offset, mask=image)\n",
    "\n",
    "  def _calculate_actual_offset(self, synth_offset, bg_image_size, scale):\n",
    "                                                                     \"\"\"'+' because `synth_offset` is less than zero and will decrease value on sum.\"\"\"\n",
    "                                                                     scaled_offset = synth_offset * scale\n",
    "                                                                     return scaled_offset if synth_offset > 0 else bg_image_size + scaled_offset"
   ]
  },
  {
   "cell_type": "code",
   "execution_count": 7,
   "outputs": [],
   "source": [
    "class SourceImageGenerator(AppStorePreviewImageGenerator):\n",
    "  SOURCE_IMAGES_ROOT = '../Screenshots for app store/Кандидаты на скрины из notion'\n",
    "  DESTINATION_IMAGES_ROOT = '../Screenshots for app store/sources'\n",
    "\n",
    "  def generate_image(self, source_image_path, diagonal):\n",
    "      image = Image.open(source_image_path)\n",
    "      _, _, *size = self.DIAGONALS_TO_PPI_SCALE_WIDTH_HEIGHT[diagonal]\n",
    "      x_scale, y_scale = [size[i] / image.size[i] for i in range(len(size))]\n",
    "      scale = x_scale if x_scale >= y_scale else y_scale\n",
    "      image = image.resize([round(i*scale) for i in image.size])\n",
    "      x_offset = abs(size[0]-image.size[0])\n",
    "      image = image.crop((x_offset, 0, size[0]+x_offset, size[1]))\n",
    "\n",
    "      return image\n",
    "\n",
    "  def _generate_source_image_paths(self, diagonal):\n",
    "    source_image_paths = glob.glob(os.path.join(self.SOURCE_IMAGES_ROOT, '*.png'))\n",
    "    return source_image_paths"
   ],
   "metadata": {
    "collapsed": false,
    "pycharm": {
     "name": "#%%\n"
    }
   }
  },
  {
   "cell_type": "code",
   "execution_count": 9,
   "outputs": [
    {
     "data": {
      "text/plain": "HBox(children=(HTML(value=''), FloatProgress(value=0.0, max=30.0), HTML(value='')))",
      "application/vnd.jupyter.widget-view+json": {
       "version_major": 2,
       "version_minor": 0,
       "model_id": "aa76c5a449844fc8add4dbc04d1b3bfb"
      }
     },
     "metadata": {},
     "output_type": "display_data"
    },
    {
     "name": "stdout",
     "output_type": "stream",
     "text": [
      "\n",
      "\n"
     ]
    },
    {
     "data": {
      "text/plain": "HBox(children=(HTML(value=''), FloatProgress(value=0.0, max=30.0), HTML(value='')))",
      "application/vnd.jupyter.widget-view+json": {
       "version_major": 2,
       "version_minor": 0,
       "model_id": "0bb0c8d4cf3444618b4d3609cdb470a9"
      }
     },
     "metadata": {},
     "output_type": "display_data"
    },
    {
     "data": {
      "text/plain": "[<PIL.PngImagePlugin.PngImageFile image mode=RGBA size=1920x1080 at 0x1149A3B00>,\n <PIL.PngImagePlugin.PngImageFile image mode=RGBA size=1920x1080 at 0x11448EBA8>,\n <PIL.PngImagePlugin.PngImageFile image mode=RGBA size=1920x1080 at 0x115179F60>,\n <PIL.PngImagePlugin.PngImageFile image mode=RGBA size=1920x1080 at 0x1149A3DD8>,\n <PIL.PngImagePlugin.PngImageFile image mode=RGBA size=1920x1080 at 0x11499D470>,\n <PIL.PngImagePlugin.PngImageFile image mode=RGBA size=1920x1080 at 0x1149A3BE0>,\n <PIL.PngImagePlugin.PngImageFile image mode=RGBA size=1920x1080 at 0x11513B208>,\n <PIL.PngImagePlugin.PngImageFile image mode=RGBA size=1920x1080 at 0x1144AA7B8>,\n <PIL.PngImagePlugin.PngImageFile image mode=RGBA size=1920x1080 at 0x1144AA6D8>,\n <PIL.PngImagePlugin.PngImageFile image mode=RGBA size=1920x1080 at 0x1149A34A8>,\n <PIL.PngImagePlugin.PngImageFile image mode=RGBA size=2688x1242 at 0x115179898>,\n <PIL.PngImagePlugin.PngImageFile image mode=RGBA size=2688x1242 at 0x114A57DA0>,\n <PIL.PngImagePlugin.PngImageFile image mode=RGBA size=2688x1242 at 0x1149B9C88>,\n <PIL.PngImagePlugin.PngImageFile image mode=RGBA size=2688x1242 at 0x115179E10>,\n <PIL.PngImagePlugin.PngImageFile image mode=RGBA size=2688x1242 at 0x11499DCF8>,\n <PIL.PngImagePlugin.PngImageFile image mode=RGBA size=2688x1242 at 0x114A57F28>,\n <PIL.PngImagePlugin.PngImageFile image mode=RGBA size=2688x1242 at 0x115179400>,\n <PIL.PngImagePlugin.PngImageFile image mode=RGBA size=2688x1242 at 0x115179EF0>,\n <PIL.PngImagePlugin.PngImageFile image mode=RGBA size=2688x1242 at 0x11499D8D0>,\n <PIL.PngImagePlugin.PngImageFile image mode=RGBA size=2688x1242 at 0x11499D128>,\n <PIL.PngImagePlugin.PngImageFile image mode=RGBA size=2732x2048 at 0x114C10780>,\n <PIL.PngImagePlugin.PngImageFile image mode=RGBA size=2732x2048 at 0x11499D0F0>,\n <PIL.PngImagePlugin.PngImageFile image mode=RGBA size=2732x2048 at 0x11499DF28>,\n <PIL.PngImagePlugin.PngImageFile image mode=RGBA size=2732x2048 at 0x11499D978>,\n <PIL.PngImagePlugin.PngImageFile image mode=RGBA size=2732x2048 at 0x114C10588>,\n <PIL.PngImagePlugin.PngImageFile image mode=RGBA size=2732x2048 at 0x11499D0B8>,\n <PIL.PngImagePlugin.PngImageFile image mode=RGBA size=2732x2048 at 0x11499D828>,\n <PIL.PngImagePlugin.PngImageFile image mode=RGBA size=2732x2048 at 0x114C10828>,\n <PIL.PngImagePlugin.PngImageFile image mode=RGBA size=2732x2048 at 0x114C104A8>,\n <PIL.PngImagePlugin.PngImageFile image mode=RGBA size=2732x2048 at 0x114C10470>]"
     },
     "execution_count": 9,
     "metadata": {},
     "output_type": "execute_result"
    }
   ],
   "source": [
    "SourceImageGenerator().generate_images()\n",
    "AppStorePreviewImageGenerator().generate_images()"
   ],
   "metadata": {
    "collapsed": false,
    "pycharm": {
     "name": "#%%\n"
    }
   }
  },
  {
   "cell_type": "code",
   "execution_count": null,
   "outputs": [],
   "source": [],
   "metadata": {
    "collapsed": false,
    "pycharm": {
     "name": "#%%\n"
    }
   }
  }
 ],
 "metadata": {
  "kernelspec": {
   "display_name": "Python 3",
   "language": "python",
   "name": "python3"
  },
  "language_info": {
   "codemirror_mode": {
    "name": "ipython",
    "version": 3
   },
   "file_extension": ".py",
   "mimetype": "text/x-python",
   "name": "python",
   "nbconvert_exporter": "python",
   "pygments_lexer": "ipython3",
   "version": "3.7.3"
  }
 },
 "nbformat": 4,
 "nbformat_minor": 4
}