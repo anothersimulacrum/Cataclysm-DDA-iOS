{
 "cells": [
  {
   "cell_type": "code",
   "execution_count": 237,
   "metadata": {
    "pycharm": {
     "name": "#%%\n"
    }
   },
   "outputs": [
    {
     "data": {
      "text/plain": "HBox(children=(HTML(value=''), FloatProgress(value=0.0, max=3.0), HTML(value='')))",
      "application/vnd.jupyter.widget-view+json": {
       "version_major": 2,
       "version_minor": 0,
       "model_id": "4251740347164cb8a5ef80641aca941f"
      }
     },
     "metadata": {},
     "output_type": "display_data"
    },
    {
     "data": {
      "text/plain": "HBox(children=(HTML(value=''), FloatProgress(value=1.0, bar_style='info', layout=Layout(width='20px'), max=1.0…",
      "application/vnd.jupyter.widget-view+json": {
       "version_major": 2,
       "version_minor": 0,
       "model_id": "eb9ca134dccb42958ba5922619ebf2f3"
      }
     },
     "metadata": {},
     "output_type": "display_data"
    },
    {
     "name": "stdout",
     "output_type": "stream",
     "text": [
      "\n",
      "\n",
      "\n",
      "\n"
     ]
    },
    {
     "data": {
      "text/plain": "HBox(children=(HTML(value=''), FloatProgress(value=1.0, bar_style='info', layout=Layout(width='20px'), max=1.0…",
      "application/vnd.jupyter.widget-view+json": {
       "version_major": 2,
       "version_minor": 0,
       "model_id": "38914d9a1c094e99a4196a736a9cdfe0"
      }
     },
     "metadata": {},
     "output_type": "display_data"
    },
    {
     "data": {
      "text/plain": "HBox(children=(HTML(value=''), FloatProgress(value=0.0, max=2.0), HTML(value='')))",
      "application/vnd.jupyter.widget-view+json": {
       "version_major": 2,
       "version_minor": 0,
       "model_id": "249c21a40e854821b5b253b1332a5f97"
      }
     },
     "metadata": {},
     "output_type": "display_data"
    }
   ],
   "source": [
    "import glob\n",
    "import os.path\n",
    "from pathlib import Path\n",
    "\n",
    "from PIL import Image\n",
    "from tqdm.notebook import tqdm\n",
    "\n",
    "SOURCE_IMAGES_ROOT = '../Screenshots for app store/sources'\n",
    "DESTINATION_IMAGES_ROOT = '../Screenshots for app store/generated'\n",
    "\n",
    "BUTTONS = {\n",
    "    'gamepad': {\n",
    "        'path': '../Bundle/JSDPad/dPad-None@2x.png',\n",
    "        'offset': (20, -20-150),  # +x = left, -x = right, +y = top, -y = bottom\n",
    "        'size': (150, 150),\n",
    "    },\n",
    "    'esc': {\n",
    "        'path': '../Screenshots for app store/esc button@2x.png',\n",
    "        'offset': (-20-50, 20),\n",
    "        'size': (50, 50),\n",
    "    },\n",
    "    'return': {\n",
    "        'path': '../Screenshots for app store/return button@2x.png',\n",
    "        'offset': (-20-50, -20-50),\n",
    "        'size': (50, 50),\n",
    "    },\n",
    "    'tab': {\n",
    "        'path': '../Screenshots for app store/tab button@2x.png',\n",
    "        'offset': (20, 20),\n",
    "        'size': (50, 50),\n",
    "    },\n",
    "}\n",
    "DIAGONALS_TO_PPI_SCALE_WIDTH_HEIGHT = {\n",
    "    '5.5': (401, 2, 1920, 1080),\n",
    "    '6.5': (458, 3, 2688, 1242),\n",
    "    '12.9': (264, 2, 2732, 2048),\n",
    "}\n",
    "OPACITY = round(.125 * 255)\n",
    "\n",
    "\n",
    "def generate_images():\n",
    "  for diagonal in tqdm(DIAGONALS_TO_PPI_SCALE_WIDTH_HEIGHT):\n",
    "    source_image_paths = glob.glob(os.path.join(SOURCE_IMAGES_ROOT, diagonal, '*.png'))\n",
    "    output_directory = Path(os.path.join(DESTINATION_IMAGES_ROOT, diagonal))\n",
    "    output_directory.mkdir(parents=True, exist_ok=True)\n",
    "\n",
    "    for source_image_path in tqdm(source_image_paths):\n",
    "      image = generate_image(source_image_path, diagonal)\n",
    "      destination_image_path = os.path.join(\n",
    "        output_directory, os.path.basename(source_image_path))\n",
    "      image.save(destination_image_path)\n",
    "\n",
    "\n",
    "def generate_image(source_image_path, diagonal):\n",
    "    bg_image = Image.open(source_image_path)\n",
    "    dpi, scale, *size = DIAGONALS_TO_PPI_SCALE_WIDTH_HEIGHT[diagonal]\n",
    "\n",
    "    for name, data in BUTTONS.items():\n",
    "        _process_button(bg_image, data, size, scale)\n",
    "    return bg_image\n",
    "\n",
    "\n",
    "def _process_button(bg_image, image_data, size, scale):\n",
    "  real_size = [d*scale for d in image_data['size']]\n",
    "  image = Image.open(image_data['path']).resize(real_size).convert(mode='RGBA')\n",
    "  actual_offset = [\n",
    "    _calculate_actual_offset(o, s, scale)\n",
    "    for (o, s) in zip(image_data['offset'], size)\n",
    "  ]\n",
    "\n",
    "  image_data = list(image.getdata())\n",
    "  for i, pixel in enumerate(image_data):\n",
    "    image_data[i] = pixel[:3] + (OPACITY, ) if pixel[3] > 0 else pixel\n",
    "  image.putdata(image_data)\n",
    "\n",
    "  bg_image.paste(image, box=actual_offset, mask=image)\n",
    "\n",
    "\n",
    "def _calculate_actual_offset(synth_offset, bg_image_size, scale):\n",
    "  \"\"\"'+' because `synth_offset` is less than zero and will decrease value on sum.\"\"\"\n",
    "  scaled_offset = synth_offset * scale\n",
    "  return scaled_offset if synth_offset > 0 else bg_image_size + scaled_offset\n",
    "\n",
    "\n",
    "generate_images()"
   ]
  },
  {
   "cell_type": "code",
   "execution_count": null,
   "outputs": [],
   "source": [
    "\n"
   ],
   "metadata": {
    "collapsed": false,
    "pycharm": {
     "name": "#%%\n"
    }
   }
  }
 ],
 "metadata": {
  "kernelspec": {
   "display_name": "Python 3",
   "language": "python",
   "name": "python3"
  },
  "language_info": {
   "codemirror_mode": {
    "name": "ipython",
    "version": 3
   },
   "file_extension": ".py",
   "mimetype": "text/x-python",
   "name": "python",
   "nbconvert_exporter": "python",
   "pygments_lexer": "ipython3",
   "version": "3.7.3"
  }
 },
 "nbformat": 4,
 "nbformat_minor": 4
}