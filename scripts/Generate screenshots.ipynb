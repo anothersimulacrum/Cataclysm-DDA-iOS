{
 "cells": [
  {
   "cell_type": "code",
   "execution_count": 3,
   "metadata": {
    "pycharm": {
     "name": "#%%\n"
    }
   },
   "outputs": [],
   "source": [
    "import glob\n",
    "import os.path\n",
    "from concurrent.futures import ProcessPoolExecutor\n",
    "from pathlib import Path\n",
    "\n",
    "from PIL import Image\n",
    "from tqdm.notebook import tqdm\n",
    "\n",
    "\n",
    "class ImagesGenerator:\n",
    "  def __init__(self, image_generator):\n",
    "      self._image_generator = image_generator\n",
    "\n",
    "  def generate_images(self):\n",
    "    params = list(self._processing_params_generator())\n",
    "    with ProcessPoolExecutor() as executor:\n",
    "        results = list(tqdm(executor.map(self._process_image, params), total=len(params)))\n",
    "    return results\n",
    "\n",
    "  def _processing_params_generator(self):\n",
    "      for diagonal in self._image_generator.diagonals_to_ppi_scale_width_height:\n",
    "        source_image_paths = self._image_generator.generate_source_image_paths(diagonal)\n",
    "        output_directory = Path(os.path.join(\n",
    "          self._image_generator.destination_images_root, diagonal))\n",
    "        output_directory.mkdir(parents=True, exist_ok=True)\n",
    "\n",
    "        for source_image_path in source_image_paths:\n",
    "            yield diagonal, output_directory, source_image_path\n",
    "\n",
    "  def _process_image(self, params):\n",
    "      diagonal, output_directory, source_image_path = params\n",
    "      image = self._image_generator.generate_image(source_image_path, diagonal)\n",
    "      destination_image_path = os.path.join(\n",
    "          output_directory, os.path.basename(source_image_path))\n",
    "      image.save(destination_image_path)\n",
    "\n",
    "      return image\n",
    "\n",
    "\n",
    "class AppStorePreviewImageGenerator:\n",
    "  buttons = {\n",
    "      'gamepad': {\n",
    "          'path': '../Bundle/JSDPad/dPad-None@2x.png',\n",
    "          'offset': (20, -20-150),  # +x = left, -x = right, +y = top, -y = bottom\n",
    "          'size': (150, 150),\n",
    "      },\n",
    "      'esc': {\n",
    "          'path': '../Screenshots for app store/esc button@2x.png',\n",
    "          'offset': (-20-50, 20),\n",
    "          'size': (50, 50),\n",
    "      },\n",
    "      'return': {\n",
    "          'path': '../Screenshots for app store/return button@2x.png',\n",
    "          'offset': (-20-50, -20-50),\n",
    "          'size': (50, 50),\n",
    "      },\n",
    "      'tab': {\n",
    "          'path': '../Screenshots for app store/tab button@2x.png',\n",
    "          'offset': (20, 20),\n",
    "          'size': (50, 50),\n",
    "      },\n",
    "  }\n",
    "  opacity = round(.125 * 255)\n",
    "  source_images_root = '../Screenshots for app store/sources'\n",
    "  destination_images_root = '../Screenshots for app store/generated'\n",
    "  diagonals_to_ppi_scale_width_height = {\n",
    "      '5.5': (401, 2, 2208, 1242),\n",
    "      '6.5': (458, 3, 2688, 1242),\n",
    "      '12.9': (264, 2, 2732, 2048),\n",
    "  }\n",
    "\n",
    "\n",
    "  def generate_image(self, source_image_path, diagonal):\n",
    "      bg_image = Image.open(source_image_path)\n",
    "      dpi, scale, *size = self.diagonals_to_ppi_scale_width_height[diagonal]\n",
    "\n",
    "      for name, data in self.buttons.items():\n",
    "          self._process_button(bg_image, data, size, scale)\n",
    "      bg_image = bg_image.convert('RGB')\n",
    "      return bg_image\n",
    "\n",
    "  def generate_source_image_paths(self, diagonal):\n",
    "    source_image_paths = glob.glob(os.path.join(\n",
    "      self.source_images_root, diagonal, '*.png'))\n",
    "    return source_image_paths\n",
    "\n",
    "  def _process_button(self, bg_image, image_data, size, scale):\n",
    "    real_size = [d*scale for d in image_data['size']]\n",
    "    image = Image.open(image_data['path']).resize(real_size).convert(mode='RGBA')\n",
    "    actual_offset = [\n",
    "      self._calculate_actual_offset(o, s, scale)\n",
    "      for (o, s) in zip(image_data['offset'], size)\n",
    "    ]\n",
    "\n",
    "    image_data = list(image.getdata())\n",
    "    for i, pixel in enumerate(image_data):\n",
    "      image_data[i] = pixel[:3] + (self.opacity, ) if pixel[3] > 0 else pixel\n",
    "    image.putdata(image_data)\n",
    "\n",
    "    bg_image.paste(image, box=actual_offset, mask=image)\n",
    "\n",
    "  def _calculate_actual_offset(self, synth_offset, bg_image_size, scale):\n",
    "     \"\"\"'+' because `synth_offset` is less than zero and will decrease value on sum.\"\"\"\n",
    "     scaled_offset = synth_offset * scale\n",
    "     return scaled_offset if synth_offset > 0 else bg_image_size + scaled_offset\n",
    "\n",
    "\n",
    "class SourceImageGenerator:\n",
    "  source_images_root = '../Screenshots for app store/Кандидаты на скрины из notion'\n",
    "  destination_images_root = '../Screenshots for app store/sources'\n",
    "  diagonals_to_ppi_scale_width_height = AppStorePreviewImageGenerator.diagonals_to_ppi_scale_width_height\n",
    "\n",
    "  def generate_image(self, source_image_path, diagonal):\n",
    "      image = Image.open(source_image_path)\n",
    "      _, _, *size = self.diagonals_to_ppi_scale_width_height[diagonal]\n",
    "      x_scale, y_scale = [size[i] / image.size[i] for i in range(len(size))]\n",
    "      scale = x_scale if x_scale >= y_scale else y_scale\n",
    "      image = image.resize([round(i*scale) for i in image.size])\n",
    "      x_offset = abs(size[0]-image.size[0])\n",
    "      image = image.crop((x_offset, 0, size[0]+x_offset, size[1]))\n",
    "\n",
    "      return image\n",
    "\n",
    "  def generate_source_image_paths(self, diagonal):\n",
    "    source_image_paths = glob.glob(os.path.join(self.source_images_root, '*.png'))\n",
    "    return source_image_paths"
   ]
  },
  {
   "cell_type": "code",
   "execution_count": 4,
   "outputs": [
    {
     "data": {
      "text/plain": "HBox(children=(HTML(value=''), FloatProgress(value=0.0, max=30.0), HTML(value='')))",
      "application/vnd.jupyter.widget-view+json": {
       "version_major": 2,
       "version_minor": 0,
       "model_id": "b0eb10830ad946d08eaa3679acc8771e"
      }
     },
     "metadata": {},
     "output_type": "display_data"
    },
    {
     "name": "stdout",
     "output_type": "stream",
     "text": [
      "\n",
      "\n"
     ]
    },
    {
     "data": {
      "text/plain": "HBox(children=(HTML(value=''), FloatProgress(value=0.0, max=30.0), HTML(value='')))",
      "application/vnd.jupyter.widget-view+json": {
       "version_major": 2,
       "version_minor": 0,
       "model_id": "0e0593349f05461eb6245e853eb0b1d4"
      }
     },
     "metadata": {},
     "output_type": "display_data"
    },
    {
     "data": {
      "text/plain": "[<PIL.Image.Image image mode=RGB size=2208x1242 at 0x1150E65F8>,\n <PIL.Image.Image image mode=RGB size=2208x1242 at 0x115130588>,\n <PIL.Image.Image image mode=RGB size=2208x1242 at 0x1151304A8>,\n <PIL.Image.Image image mode=RGB size=2208x1242 at 0x1150BD7F0>,\n <PIL.Image.Image image mode=RGB size=2208x1242 at 0x1150E62B0>,\n <PIL.Image.Image image mode=RGB size=2208x1242 at 0x115130390>,\n <PIL.Image.Image image mode=RGB size=2208x1242 at 0x115120BE0>,\n <PIL.Image.Image image mode=RGB size=2208x1242 at 0x1150E6550>,\n <PIL.Image.Image image mode=RGB size=2208x1242 at 0x115120E10>,\n <PIL.Image.Image image mode=RGB size=2208x1242 at 0x10FEA5F60>,\n <PIL.Image.Image image mode=RGB size=2688x1242 at 0x1150B7EF0>,\n <PIL.Image.Image image mode=RGB size=2688x1242 at 0x1150E68D0>,\n <PIL.Image.Image image mode=RGB size=2688x1242 at 0x1150E6320>,\n <PIL.Image.Image image mode=RGB size=2688x1242 at 0x11438D860>,\n <PIL.Image.Image image mode=RGB size=2688x1242 at 0x10FEA5EF0>,\n <PIL.Image.Image image mode=RGB size=2688x1242 at 0x1150B7978>,\n <PIL.Image.Image image mode=RGB size=2688x1242 at 0x11438DDA0>,\n <PIL.Image.Image image mode=RGB size=2688x1242 at 0x1150B76D8>,\n <PIL.Image.Image image mode=RGB size=2688x1242 at 0x1150B71D0>,\n <PIL.Image.Image image mode=RGB size=2688x1242 at 0x1150B7F28>,\n <PIL.Image.Image image mode=RGB size=2732x2048 at 0x1150CD4A8>,\n <PIL.Image.Image image mode=RGB size=2732x2048 at 0x1150B7748>,\n <PIL.Image.Image image mode=RGB size=2732x2048 at 0x1150CD048>,\n <PIL.Image.Image image mode=RGB size=2732x2048 at 0x1150CD208>,\n <PIL.Image.Image image mode=RGB size=2732x2048 at 0x1150B74A8>,\n <PIL.Image.Image image mode=RGB size=2732x2048 at 0x1150CDCC0>,\n <PIL.Image.Image image mode=RGB size=2732x2048 at 0x1150CD9B0>,\n <PIL.Image.Image image mode=RGB size=2732x2048 at 0x1150CD080>,\n <PIL.Image.Image image mode=RGB size=2732x2048 at 0x1150CD470>,\n <PIL.Image.Image image mode=RGB size=2732x2048 at 0x1150CD588>]"
     },
     "execution_count": 4,
     "metadata": {},
     "output_type": "execute_result"
    }
   ],
   "source": [
    "ImagesGenerator(SourceImageGenerator()).generate_images()\n",
    "ImagesGenerator(AppStorePreviewImageGenerator()).generate_images()"
   ],
   "metadata": {
    "collapsed": false,
    "pycharm": {
     "name": "#%%\n"
    }
   }
  },
  {
   "cell_type": "code",
   "execution_count": null,
   "outputs": [],
   "source": [],
   "metadata": {
    "collapsed": false,
    "pycharm": {
     "name": "#%%\n"
    }
   }
  }
 ],
 "metadata": {
  "kernelspec": {
   "display_name": "Python 3",
   "language": "python",
   "name": "python3"
  },
  "language_info": {
   "codemirror_mode": {
    "name": "ipython",
    "version": 3
   },
   "file_extension": ".py",
   "mimetype": "text/x-python",
   "name": "python",
   "nbconvert_exporter": "python",
   "pygments_lexer": "ipython3",
   "version": "3.7.3"
  }
 },
 "nbformat": 4,
 "nbformat_minor": 4
}