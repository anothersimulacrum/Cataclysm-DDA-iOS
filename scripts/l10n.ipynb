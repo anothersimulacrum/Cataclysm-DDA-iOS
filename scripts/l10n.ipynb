{
 "cells": [
  {
   "cell_type": "code",
   "execution_count": 42,
   "metadata": {},
   "outputs": [],
   "source": [
    "import csv\n",
    "import pathlib\n",
    "\n",
    "import lxml.etree as etree"
   ]
  },
  {
   "cell_type": "code",
   "execution_count": 41,
   "metadata": {},
   "outputs": [],
   "source": [
    "l10n_root = pathlib.Path('/Users/apollov/work/CDDA-new/CDDA/CDDA-loc')\n",
    "l10n_csv = pathlib.Path('/Users/apollov/work/CDDA-new/CDDA/Translations.csv')"
   ]
  },
  {
   "cell_type": "code",
   "execution_count": 6,
   "metadata": {},
   "outputs": [],
   "source": [
    "language_dirs = [x for x in l10n_root.iterdir() if x.is_dir()]"
   ]
  },
  {
   "cell_type": "code",
   "execution_count": 9,
   "metadata": {},
   "outputs": [
    {
     "data": {
      "text/plain": [
       "[PosixPath('/Users/apollov/work/CDDA-new/CDDA/CDDA-loc/hu.xcloc/Localized Contents/hu.xliff'),\n",
       " PosixPath('/Users/apollov/work/CDDA-new/CDDA/CDDA-loc/en.xcloc/Localized Contents/en.xliff')]"
      ]
     },
     "execution_count": 9,
     "metadata": {},
     "output_type": "execute_result"
    }
   ],
   "source": [
    "xliffs = list(l10n_root.glob('*/Localized Contents/*.xliff'))\n",
    "xliffs"
   ]
  },
  {
   "cell_type": "code",
   "execution_count": 46,
   "metadata": {
    "collapsed": true,
    "jupyter": {
     "outputs_hidden": true
    }
   },
   "outputs": [
    {
     "name": "stdout",
     "output_type": "stream",
     "text": [
      "N Toggle minimap\n",
      "1\n",
      "U Unload or empty wielded item\n",
      "m View map\n",
      "Info\n",
      "7\n",
      "L Move view East\n",
      "0 View help\n",
      ": Center view\n",
      "Look\n",
      "4\n",
      "D\n",
      "R Read\n",
      "Y Manage zones\n",
      "Inventory\n",
      "V List all items around the player\n",
      "I\n",
      "W\n",
      "A Apply or use wielded item\n",
      "/ Advanced inventory management\n",
      "v View morale\n",
      "{ Toggle map memory\n",
      "Misc\n",
      "6\n",
      "3\n",
      "9\n",
      "SPACE\n",
      "a Apply or use item\n",
      "& Craft items\n",
      "_ Select martial arts style\n",
      "} Toggle panel admin\n",
      "+ Re-layer armor/clothing\n",
      "Combat\n",
      "2\n",
      "SPACE\n",
      "P View message log\n",
      "X Peek around corners\n",
      "[ View/activate mutations\n",
      "= Swap inventory letters\n",
      "G Grab something nearby\n",
      "K Move view North\n",
      "( Disassemble items\n",
      "e Examine nearby terrain\n",
      ") View scores\n",
      "c Close door\n",
      "| Wait for several minutes\n",
      "> Descend stairs\n",
      "D Drop item to adjacent tile\n",
      "- Recraft last recipe\n",
      "TAB\n",
      "\" Movement mode menu\n",
      "J Move view South\n",
      "ESC\n",
      "i Open inventory\n",
      "M View missions\n",
      "s Toggle burst/auto mode\n",
      "m Change aim mode\n",
      "* Toggle snap-to-target\n",
      "f Fire wielded item\n",
      "5\n",
      "w Wield\n",
      "r Reload item\n",
      "< Ascend stairs\n",
      "⮐\n",
      "C\n",
      "d Drop item\n",
      "8\n",
      "H Move view West\n",
      "Craft\n",
      "x Look around\n",
      "@ View player info\n",
      "g Pickup nearby item(s)\n",
      "* Construct terrain\n",
      "^ Control vehicle\n",
      "I Compare two items\n",
      "# View factions\n",
      "T Take off worn item\n",
      "o Open door\n",
      "\\ Haul items along the ground\n",
      "Interact\n",
      "B Butcher\n",
      "C Chat with NPC\n",
      "SPACE\n",
      "% Item action menu\n",
      "E Eat\n",
      "W Wear item\n",
      "t Throw item\n",
      "! Toggle safe mode\n",
      "s Smash nearby terrain\n",
      "F Toggle attack mode of wielded item\n",
      "Q Commit suicide\n",
      "A\n",
      "p View/activate bionics\n",
      "S Save and quit\n",
      "' Ignore nearby enemy\n",
      "$ Sleep\n",
      "BTAB\n",
      "O Zone activities\n"
     ]
    }
   ],
   "source": [
    "def findall(tree, tag):\n",
    "    return tree.findall(f'.//{{urn:oasis:names:tc:xliff:document:1.2}}{tag}')\n",
    "\n",
    "\n",
    "def get_targets_from_xliff(xliff):\n",
    "    with open(xliff) as f:\n",
    "        tree = etree.parse(f)\n",
    "    \n",
    "    targets = '\\n'.join([x.text for x in findall(tree, 'target')])\n",
    "    return targets\n",
    "\n",
    "print(get_targets_from_xliff(xliffs[0]))"
   ]
  },
  {
   "cell_type": "code",
   "execution_count": 70,
   "metadata": {},
   "outputs": [],
   "source": [
    "def save_translation(xliff: pathlib.Path):\n",
    "    with open(xliff) as f:\n",
    "        tree = etree.parse(f)\n",
    "    \n",
    "    with open(l10n_csv) as f:\n",
    "        translations_csv_reader = csv.reader(f)\n",
    "        langs = next(translations_csv_reader)[1:]\n",
    "        translation_mappings = {row[0]: dict(zip(langs, row[1:])) for row in translations_csv_reader}\n",
    "    \n",
    "    lang = xliff.name.split('.')[0]\n",
    "    trans_units = findall(tree, 'trans-unit')\n",
    "    \n",
    "    for trans_unit in trans_units:\n",
    "        source = findall(trans_unit, 'source')[0]\n",
    "        \n",
    "        try:\n",
    "            translation = translation_mappings[source.text][lang]\n",
    "        except KeyError:\n",
    "            print(f'txn for {lang}/{source.text} not found. Skipping.')\n",
    "            continue\n",
    "\n",
    "        try:\n",
    "            target = findall(trans_unit, 'target')[0]\n",
    "        except IndexError:\n",
    "            target = etree.SubElement(trans_unit, 'target')\n",
    "\n",
    "        target.text = translation\n",
    "        \n",
    "    tree.write(str(xliff))\n",
    "\n",
    "\n",
    "save_translation(xliffs[0])"
   ]
  },
  {
   "cell_type": "code",
   "execution_count": 64,
   "metadata": {},
   "outputs": [
    {
     "name": "stdout",
     "output_type": "stream",
     "text": [
      "> \u001b[0;32m<ipython-input-63-2b4f3bc0b830>\u001b[0m(15)\u001b[0;36msave_translation\u001b[0;34m()\u001b[0m\n",
      "\u001b[0;32m     13 \u001b[0;31m    \u001b[0;32mfor\u001b[0m \u001b[0mtrans_unit\u001b[0m \u001b[0;32min\u001b[0m \u001b[0mtrans_units\u001b[0m\u001b[0;34m:\u001b[0m\u001b[0;34m\u001b[0m\u001b[0;34m\u001b[0m\u001b[0m\n",
      "\u001b[0m\u001b[0;32m     14 \u001b[0;31m        \u001b[0msource\u001b[0m \u001b[0;34m=\u001b[0m \u001b[0mfindall\u001b[0m\u001b[0;34m(\u001b[0m\u001b[0mtrans_unit\u001b[0m\u001b[0;34m,\u001b[0m \u001b[0;34m'source'\u001b[0m\u001b[0;34m)\u001b[0m\u001b[0;34m[\u001b[0m\u001b[0;36m0\u001b[0m\u001b[0;34m]\u001b[0m\u001b[0;34m\u001b[0m\u001b[0;34m\u001b[0m\u001b[0m\n",
      "\u001b[0m\u001b[0;32m---> 15 \u001b[0;31m        \u001b[0mtarget\u001b[0m \u001b[0;34m=\u001b[0m \u001b[0mfindall\u001b[0m\u001b[0;34m(\u001b[0m\u001b[0mtrans_unit\u001b[0m\u001b[0;34m,\u001b[0m \u001b[0;34m'target'\u001b[0m\u001b[0;34m)\u001b[0m\u001b[0;34m[\u001b[0m\u001b[0;36m0\u001b[0m\u001b[0;34m]\u001b[0m\u001b[0;34m\u001b[0m\u001b[0;34m\u001b[0m\u001b[0m\n",
      "\u001b[0m\u001b[0;32m     16 \u001b[0;31m        \u001b[0mtarget\u001b[0m\u001b[0;34m.\u001b[0m\u001b[0mtext\u001b[0m \u001b[0;34m=\u001b[0m \u001b[0mtranslation_mappings\u001b[0m\u001b[0;34m[\u001b[0m\u001b[0msource\u001b[0m\u001b[0;34m.\u001b[0m\u001b[0mtext\u001b[0m\u001b[0;34m]\u001b[0m\u001b[0;34m[\u001b[0m\u001b[0mlang\u001b[0m\u001b[0;34m]\u001b[0m\u001b[0;34m\u001b[0m\u001b[0;34m\u001b[0m\u001b[0m\n",
      "\u001b[0m\u001b[0;32m     17 \u001b[0;31m\u001b[0;34m\u001b[0m\u001b[0m\n",
      "\u001b[0m\n"
     ]
    },
    {
     "name": "stdin",
     "output_type": "stream",
     "text": [
      "ipdb>  etree.dump(trans_unit)\n"
     ]
    },
    {
     "name": "stdout",
     "output_type": "stream",
     "text": [
      "<trans-unit xmlns=\"urn:oasis:names:tc:xliff:document:1.2\" xmlns:xsi=\"http://www.w3.org/2001/XMLSchema-instance\" id=\"Overlay UI enabled\" xml:space=\"preserve\">\n",
      "        <source>Overlay UI enabled</source>\n",
      "        <note>A single strings file, whose title is specified in your preferences schema. The strings files provide the localized content to display to the user for each of your preferences.</note>\n",
      "      </trans-unit>\n",
      "    \n"
     ]
    },
    {
     "name": "stdin",
     "output_type": "stream",
     "text": [
      "ipdb>  q\n"
     ]
    }
   ],
   "source": [
    "%debug"
   ]
  },
  {
   "cell_type": "code",
   "execution_count": null,
   "metadata": {},
   "outputs": [],
   "source": [
    "etree.dump(trans_unit)"
   ]
  }
 ],
 "metadata": {
  "kernelspec": {
   "display_name": "Python 3",
   "language": "python",
   "name": "python3"
  },
  "language_info": {
   "codemirror_mode": {
    "name": "ipython",
    "version": 3
   },
   "file_extension": ".py",
   "mimetype": "text/x-python",
   "name": "python",
   "nbconvert_exporter": "python",
   "pygments_lexer": "ipython3",
   "version": "3.7.3"
  }
 },
 "nbformat": 4,
 "nbformat_minor": 4
}
