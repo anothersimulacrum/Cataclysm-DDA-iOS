{
 "cells": [
  {
   "cell_type": "code",
   "execution_count": 42,
   "metadata": {},
   "outputs": [],
   "source": [
    "import csv\n",
    "import pathlib\n",
    "\n",
    "import lxml.etree as etree"
   ]
  },
  {
   "cell_type": "code",
   "execution_count": 41,
   "metadata": {},
   "outputs": [],
   "source": [
    "l10n_root = pathlib.Path('/Users/apollov/work/CDDA-new/CDDA/CDDA-loc')\n",
    "l10n_csv = pathlib.Path('/Users/apollov/work/CDDA-new/CDDA/Translations.csv')"
   ]
  },
  {
   "cell_type": "code",
   "execution_count": 93,
   "metadata": {},
   "outputs": [
    {
     "data": {
      "text/plain": [
       "[PosixPath('/Users/apollov/work/CDDA-new/CDDA/CDDA-loc/zh.xcloc/Localized Contents/zh.xliff'),\n",
       " PosixPath('/Users/apollov/work/CDDA-new/CDDA/CDDA-loc/hu.xcloc/Localized Contents/hu.xliff'),\n",
       " PosixPath('/Users/apollov/work/CDDA-new/CDDA/CDDA-loc/ko.xcloc/Localized Contents/ko.xliff'),\n",
       " PosixPath('/Users/apollov/work/CDDA-new/CDDA/CDDA-loc/en.xcloc/Localized Contents/en.xliff'),\n",
       " PosixPath('/Users/apollov/work/CDDA-new/CDDA/CDDA-loc/de.xcloc/Localized Contents/de.xliff'),\n",
       " PosixPath('/Users/apollov/work/CDDA-new/CDDA/CDDA-loc/es.xcloc/Localized Contents/es.xliff')]"
      ]
     },
     "execution_count": 93,
     "metadata": {},
     "output_type": "execute_result"
    }
   ],
   "source": [
    "xliffs = list(l10n_root.glob('*/Localized Contents/*.xliff'))\n",
    "xliffs"
   ]
  },
  {
   "cell_type": "code",
   "execution_count": 94,
   "metadata": {},
   "outputs": [],
   "source": [
    "def csv_sanity_check():\n",
    "    with open(l10n_csv) as f:\n",
    "        reader = csv.reader(f)\n",
    "        langs = next(reader)\n",
    "\n",
    "        for record in reader:\n",
    "            source = record[0]\n",
    "            if (len(source) == 1) or (source[1] == ' '):\n",
    "                sym = source[0]\n",
    "\n",
    "                for lang, txn in zip(langs, record):\n",
    "                    if txn[0] != sym:\n",
    "                        print(f'Symbol {sym} differs for language {lang}: {txn}')\n",
    "                    if (len(source) == 1) and (len(txn) != 1):\n",
    "                        print(f'Trailing symbols for {sym} in {txn}')\n",
    "\n",
    "csv_sanity_check()"
   ]
  },
  {
   "cell_type": "code",
   "execution_count": 95,
   "metadata": {},
   "outputs": [],
   "source": [
    "def save_translation(xliff: pathlib.Path):\n",
    "    with open(xliff) as f:\n",
    "        tree = etree.parse(f)\n",
    "    \n",
    "    with open(l10n_csv) as f:\n",
    "        translations_csv_reader = csv.reader(f)\n",
    "        langs = next(translations_csv_reader)[1:]\n",
    "        translation_mappings = {row[0]: dict(zip(langs, row[1:])) for row in translations_csv_reader}\n",
    "    \n",
    "    lang = xliff.name.split('.')[0]\n",
    "    trans_units = findall(tree, 'trans-unit')\n",
    "    \n",
    "    for trans_unit in trans_units:\n",
    "        source = findall(trans_unit, 'source')[0]\n",
    "        \n",
    "        try:\n",
    "            translation = translation_mappings[source.text][lang]\n",
    "        except KeyError:\n",
    "            print(f'txn for {lang}/{source.text} not found. Skipping.')\n",
    "            continue\n",
    "\n",
    "        try:\n",
    "            target = findall(trans_unit, 'target')[0]\n",
    "        except IndexError:\n",
    "            target = etree.SubElement(trans_unit, 'target')\n",
    "\n",
    "        target.text = translation\n",
    "        \n",
    "    tree.write(str(xliff))\n",
    "\n",
    "\n",
    "save_translation(xliffs[-2])"
   ]
  },
  {
   "cell_type": "code",
   "execution_count": 71,
   "metadata": {
    "collapsed": true,
    "jupyter": {
     "outputs_hidden": true,
     "source_hidden": true
    }
   },
   "outputs": [
    {
     "name": "stdout",
     "output_type": "stream",
     "text": [
      "N Váltás a minimapon\n",
      "1\n",
      "U Rakja ki vagy ürítse ki az árnyékolt tárgyat\n",
      "m Térkép megtekintése\n",
      "Info\n",
      "7\n",
      "L Mozgás nézet kelet felé\n",
      "0 Súgó megtekintése\n",
      ": Közép nézet\n",
      "Néz\n",
      "4\n",
      "D\n",
      "R Olvassa el\n",
      "Y Zónák kezelése\n",
      "Leltár\n",
      "V Sorolja fel az összes elemet a lejátszó körül\n",
      "I\n",
      "W\n",
      "A Hordozható elem alkalmazása vagy használata\n",
      "/ Fejlett készletgazdálkodás\n",
      "v Morál megtekintése\n",
      "{ Térképmemória váltása\n",
      "Egyéb\n",
      "6\n",
      "3\n",
      "9\n",
      "TÉR\n",
      "a Alkalmazás vagy használat elemet\n",
      "& Kézműves termékek\n",
      "_ Válassza ki a harcművészeti stílust\n",
      "} Kapcsolja be a panel adminisztrátorát\n",
      "+ Páncél / ruházat újrarétegezése\n",
      "Harc\n",
      "2\n",
      "TÉR\n",
      "P Üzenetnapló megtekintése\n",
      "X Kukucskáljon a sarkok mögött\n",
      "[ Mutációk megtekintése / aktiválása\n",
      "= Cserélje le a betűjeleket\n",
      "G Fogj valamit a közelben\n",
      "K Mozgás északra\n",
      "( Szerelje szét az elemeket\n",
      "e Vizsgálja meg a közeli terepet\n",
      ") Pontszámok megtekintése\n",
      "c Csukja be az ajtót\n",
      "| Várjon néhány percet\n",
      "> Lépjen le a lépcsőn\n",
      "D Dobja az elemet a szomszédos csempére\n",
      "- Újrafogalmazza az utolsó receptet\n",
      "TAB\n",
      "\" Mozgás mód menü\n",
      "J Nézet mozgatása délre\n",
      "ESC\n",
      "i Nyitott leltár\n",
      "M Missziók megtekintése\n",
      "s Sorozatkép / automatikus mód váltása\n",
      "m Változtassa meg a cél módot\n",
      "* Váltás snap-to-target\n",
      "f Tűzzel ellátott tárgy\n",
      "5\n",
      "w Wield\n",
      "r Töltse be újra az elemet\n",
      "< Menj fel a lépcsőn\n",
      "⮐\n",
      "C\n",
      "d Dobd el az elemet\n",
      "8\n",
      "H Mozgassa a nyugati nézetet\n",
      "Hajó\n",
      "x Nézz körül\n",
      "@ A lejátszó adatainak megtekintése\n",
      "g Átvétel a közelben\n",
      "* Terep kialakítása\n",
      "^ Irányító jármű\n",
      "I Elemet hasonlítok össze\n",
      "# Nézd a frakciókat\n",
      "T Vegye le a kopott tárgyat\n",
      "o Nyissa ki az ajtót\n",
      "\\ Rakománytárgyak a föld mentén\n",
      "Egymásra hat\n",
      "B Hentes\n",
      "C Csevegés az NPC-vel\n",
      "TÉR\n",
      "% Elem művelet menü\n",
      "E Egyél\n",
      "W Viseljen tárgyat\n",
      "t Dobjon tárgyat\n",
      "! Váltás csökkentett módban\n",
      "s összetörni a közeli terepet\n",
      "F Váltsa át a támadott elem támadási módját\n",
      "Q Öngyilkos legyen\n",
      "A\n",
      "p Bionika megtekintése / aktiválása\n",
      "S Mentés és kilépés\n",
      "' Hagyd figyelmen kívül a közeli ellenséget\n",
      "$ Alvás\n",
      "BTAB\n",
      "O Zóna tevékenységek\n",
      "Az overlay felhasználói felület engedélyezve\n",
      "Cataclysm RPG\n",
      "CDDA\n"
     ]
    }
   ],
   "source": [
    "def findall(tree, tag):\n",
    "    return tree.findall(f'.//{{urn:oasis:names:tc:xliff:document:1.2}}{tag}')\n",
    "\n",
    "\n",
    "def get_targets_from_xliff(xliff):\n",
    "    with open(xliff) as f:\n",
    "        tree = etree.parse(f)\n",
    "    \n",
    "    targets = '\\n'.join([x.text for x in findall(tree, 'target')])\n",
    "    return targets\n",
    "\n",
    "print(get_targets_from_xliff(xliffs[0]))"
   ]
  },
  {
   "cell_type": "code",
   "execution_count": null,
   "metadata": {},
   "outputs": [],
   "source": [
    "etree.dump(trans_unit)"
   ]
  }
 ],
 "metadata": {
  "kernelspec": {
   "display_name": "Python 3",
   "language": "python",
   "name": "python3"
  },
  "language_info": {
   "codemirror_mode": {
    "name": "ipython",
    "version": 3
   },
   "file_extension": ".py",
   "mimetype": "text/x-python",
   "name": "python",
   "nbconvert_exporter": "python",
   "pygments_lexer": "ipython3",
   "version": "3.7.3"
  }
 },
 "nbformat": 4,
 "nbformat_minor": 4
}
